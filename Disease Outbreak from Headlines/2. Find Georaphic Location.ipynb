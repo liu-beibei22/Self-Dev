{
 "cells": [
  {
   "cell_type": "markdown",
   "metadata": {},
   "source": [
    "# match the name to the latitude and longitude\n",
    "In this section, we are augmenting the original data with external information. \n",
    "\n",
    "Mutiple countries:\n",
    "    Some cities will return multiple matches with the previous function in different countries. \n",
    "    You'll have to decide which city to keep based on a heuristic (rule of thumb).\n",
    "\n",
    "Result:\n",
    "    It will be helpful to get the countrycode of each headline at this point.\n",
    "    You should end up with over 600 headlines that have geographic coordinates.\n",
    "    Compute summary statistics and make basic distribution plots (histograms) to search for anomalies.\n",
    "\n",
    "Goal:\n",
    "    Our hypothesis is that there may be groups of headlines in close proximity referring to similar diseases. "
   ]
  },
  {
   "cell_type": "code",
   "execution_count": 17,
   "metadata": {},
   "outputs": [
    {
     "name": "stderr",
     "output_type": "stream",
     "text": [
      "UsageError: unrecognized arguments: #Jupyter “magic” function that enables plt to plot data in the cell where your code is.\n"
     ]
    }
   ],
   "source": [
    "import pandas as pd\n",
    "import numpy as np\n",
    "import unidecode\n",
    "from geonamescache import GeonamesCache\n",
    "gc = GeonamesCache()\n",
    "\n",
    "import matplotlib.pyplot as plt\n",
    "%matplotlib inline #Jupyter “magic” function that enables plt to plot data in the cell where your code is. \n",
    "\n",
    "import warning\n",
    "warnings.simplefilter(\"ignore\")\n"
   ]
  },
  {
   "cell_type": "code",
   "execution_count": 69,
   "metadata": {},
   "outputs": [
    {
     "data": {
      "text/html": [
       "<div>\n",
       "<style scoped>\n",
       "    .dataframe tbody tr th:only-of-type {\n",
       "        vertical-align: middle;\n",
       "    }\n",
       "\n",
       "    .dataframe tbody tr th {\n",
       "        vertical-align: top;\n",
       "    }\n",
       "\n",
       "    .dataframe thead th {\n",
       "        text-align: right;\n",
       "    }\n",
       "</style>\n",
       "<table border=\"1\" class=\"dataframe\">\n",
       "  <thead>\n",
       "    <tr style=\"text-align: right;\">\n",
       "      <th></th>\n",
       "      <th>headline</th>\n",
       "      <th>city</th>\n",
       "      <th>country</th>\n",
       "      <th>latitude</th>\n",
       "      <th>longitude</th>\n",
       "      <th>countrycode</th>\n",
       "    </tr>\n",
       "    <tr>\n",
       "      <th>Unnamed: 0</th>\n",
       "      <th></th>\n",
       "      <th></th>\n",
       "      <th></th>\n",
       "      <th></th>\n",
       "      <th></th>\n",
       "      <th></th>\n",
       "    </tr>\n",
       "  </thead>\n",
       "  <tbody>\n",
       "    <tr>\n",
       "      <th>0</th>\n",
       "      <td>Zika Outbreak Hits Miami</td>\n",
       "      <td>Miami</td>\n",
       "      <td>United States</td>\n",
       "      <td></td>\n",
       "      <td></td>\n",
       "      <td></td>\n",
       "    </tr>\n",
       "    <tr>\n",
       "      <th>1</th>\n",
       "      <td>Could Zika Reach New York City?</td>\n",
       "      <td>New York City</td>\n",
       "      <td>United States</td>\n",
       "      <td></td>\n",
       "      <td></td>\n",
       "      <td></td>\n",
       "    </tr>\n",
       "    <tr>\n",
       "      <th>2</th>\n",
       "      <td>First Case of Zika in Miami Beach</td>\n",
       "      <td>Miami Beach</td>\n",
       "      <td>United States</td>\n",
       "      <td></td>\n",
       "      <td></td>\n",
       "      <td></td>\n",
       "    </tr>\n",
       "    <tr>\n",
       "      <th>3</th>\n",
       "      <td>Mystery Virus Spreads in Recife, Brazil</td>\n",
       "      <td>Recife</td>\n",
       "      <td>Brazil</td>\n",
       "      <td></td>\n",
       "      <td></td>\n",
       "      <td></td>\n",
       "    </tr>\n",
       "    <tr>\n",
       "      <th>4</th>\n",
       "      <td>Dallas man comes down with case of Zika</td>\n",
       "      <td>Dallas</td>\n",
       "      <td></td>\n",
       "      <td></td>\n",
       "      <td></td>\n",
       "      <td></td>\n",
       "    </tr>\n",
       "  </tbody>\n",
       "</table>\n",
       "</div>"
      ],
      "text/plain": [
       "                                           headline           city  \\\n",
       "Unnamed: 0                                                           \n",
       "0                          Zika Outbreak Hits Miami          Miami   \n",
       "1                   Could Zika Reach New York City?  New York City   \n",
       "2                 First Case of Zika in Miami Beach    Miami Beach   \n",
       "3           Mystery Virus Spreads in Recife, Brazil         Recife   \n",
       "4           Dallas man comes down with case of Zika         Dallas   \n",
       "\n",
       "                  country latitude longitude countrycode  \n",
       "Unnamed: 0                                                \n",
       "0           United States                                 \n",
       "1           United States                                 \n",
       "2           United States                                 \n",
       "3                  Brazil                                 \n",
       "4                                                         "
      ]
     },
     "execution_count": 69,
     "metadata": {},
     "output_type": "execute_result"
    }
   ],
   "source": [
    "hl = pd.read_csv('E:/Self-Dev/ManningProject-Headlines/data/hl.csv').set_index('Unnamed: 0')\n",
    "hl[['latitude','longitude','countrycode']] = pd.DataFrame([[np.nan]*3 for i in range(hl.shape[0])])\n",
    "\n",
    "hl = hl.replace(np.nan, '', regex=True) # cannot use isnan on str\n",
    "\n",
    "hl.head()"
   ]
  },
  {
   "cell_type": "markdown",
   "metadata": {},
   "source": [
    "## Match Coordinates"
   ]
  },
  {
   "cell_type": "markdown",
   "metadata": {},
   "source": [
    "### No City or Country Matches\n",
    "I choose some of them to analysis, research on the problem why matching fails."
   ]
  },
  {
   "cell_type": "code",
   "execution_count": 70,
   "metadata": {},
   "outputs": [
    {
     "name": "stdout",
     "output_type": "stream",
     "text": [
      "(41, 6)\n"
     ]
    }
   ],
   "source": [
    "# hl.loc[no_city_info] # no records\n",
    "no_info = []\n",
    "for ix in hl.index:\n",
    "    if len(hl.city[ix]) == 0 and len(hl.country[ix]) == 0:\n",
    "        no_info.append(ix)\n",
    "print(hl.loc[no_info].shape)\n",
    "\n",
    "# problem of multiple names of a city\n",
    "hl.loc[19]['city'] = 'Cebu City' \n",
    "hl.loc[19]['country'] = 'Philippines'\n",
    "\n",
    "# smaller than a city\n",
    "hl.loc[48]['country'] = 'Antigua and Barbuda' # part of island\n",
    "\n",
    "hl.loc[73]['city'] = 'Iloilo' # only a town\n",
    "hl.loc[73]['country'] = 'Philippines'\n",
    "\n",
    "hl.loc[156]['city'] = 'New York City' # university/church name\n",
    "hl.loc[156]['country'] = 'United States'\n",
    "\n",
    "hl.loc[234]['city'] = 'Chichester'\n",
    "hl.loc[234]['country'] = 'United Kingdom'\n",
    "\n",
    "# case sensitivity\n",
    "hl.loc[63]['city'] = 'Rio de Janeiro' # case sensitivity\n",
    "hl.loc[63]['country'] = 'Brazil'\n",
    "\n",
    "hl.loc[139]['city'] = 'McAllen' \n",
    "hl.loc[139]['country'] = 'United States'\n",
    "\n",
    "hl.loc[233]['city'] = 'McLean' \n",
    "hl.loc[233]['country'] = 'United States'"
   ]
  },
  {
   "cell_type": "markdown",
   "metadata": {},
   "source": [
    "### Add Latitude and Longitude info"
   ]
  },
  {
   "cell_type": "code",
   "execution_count": 75,
   "metadata": {},
   "outputs": [],
   "source": [
    "countries = gc.get_countries_by_names()\n",
    "cities = gc.get_cities()\n",
    "\n",
    "mult_match = dict()\n",
    "no_match = []\n",
    "for ix in hl.index:\n",
    "    if len(hl.city[ix]) > 0:\n",
    "        city = hl.city[ix]\n",
    "        match = gc.get_cities_by_name(city)\n",
    "        if len(match) > 1:\n",
    "            #print('1',hl.loc[4])\n",
    "            mult_match[ix] = match\n",
    "        elif len(match) == 0:\n",
    "            #print('2',hl.loc[4])\n",
    "            no_match.append(ix)\n",
    "        else:\n",
    "            #print('3',hl)\n",
    "            match = match[0]\n",
    "            hl.latitude[ix] = match[list(match.keys())[0]]['latitude']\n",
    "            hl['longitude'][ix] = match[list(match.keys())[0]]['longitude']\n",
    "            hl.countrycode[ix] = match[list(match.keys())[0]]['countrycode']\n",
    "    elif len(hl.country[ix]) > 0:   # if only country info could be found, I use the average coordinates to represent it\n",
    "        countrycode = countries[hl.country[ix]]['iso']\n",
    "        hl.countrycode[ix] = countrycode\n",
    "        all_cities = [city for city in cities.values() if city['countrycode'] == countrycode]\n",
    "        center_lat = np.mean([city['latitude'] for city in all_cities])\n",
    "        center_lon = np.mean([city['longitude'] for city in all_cities])\n",
    "        hl['latitude'][ix] = center_lat\n",
    "        hl['longitude'][ix] = center_lon"
   ]
  },
  {
   "cell_type": "markdown",
   "metadata": {},
   "source": [
    "## Analysis on Abnormal Results"
   ]
  },
  {
   "cell_type": "markdown",
   "metadata": {},
   "source": [
    "### Multiple Match"
   ]
  },
  {
   "cell_type": "code",
   "execution_count": 80,
   "metadata": {},
   "outputs": [],
   "source": [
    "code_list = gc.get_countries()"
   ]
  },
  {
   "cell_type": "code",
   "execution_count": 102,
   "metadata": {},
   "outputs": [],
   "source": [
    "for ix in mult_match.keys():\n",
    "    match = mult_match[ix]\n",
    "    pop = 0\n",
    "    lat = 0\n",
    "    long = 0\n",
    "    code = 0\n",
    "    for a in match:\n",
    "        this = a[list(a.keys())[0]]['population']\n",
    "        if this > pop:\n",
    "            pop = this\n",
    "            lat = a[list(a.keys())[0]]['latitude']\n",
    "            long = a[list(a.keys())[0]]['longitude']\n",
    "            code = a[list(a.keys())[0]]['countrycode']\n",
    "    hl.latitude[ix] = lat\n",
    "    hl.longitude[ix] = long\n",
    "    hl.countrycode[ix] = code\n",
    "    hl.country[ix] = code_list[code]['name']"
   ]
  },
  {
   "cell_type": "markdown",
   "metadata": {},
   "source": [
    "### No Match\n",
    "Some because accents;\n",
    "Louisiana is the only one which cannot be found, I manually attached its coordinates"
   ]
  },
  {
   "cell_type": "code",
   "execution_count": 104,
   "metadata": {},
   "outputs": [
    {
     "name": "stdout",
     "output_type": "stream",
     "text": [
      "26\n",
      "1\n"
     ]
    }
   ],
   "source": [
    "num = len(no_match)\n",
    "print(num)\n",
    "find = []\n",
    "for ix in no_match:\n",
    "    city = hl.city[ix]\n",
    "    for key in cities.keys():\n",
    "        if unidecode.unidecode(cities[key]['name']) == city:\n",
    "            hl.latitude[ix] = cities[key]['latitude']\n",
    "            hl.longitude[ix] = cities[key]['longitude']\n",
    "            hl.countrycode[ix] = cities[key]['countrycode']\n",
    "            num -= 1\n",
    "            find.append(ix)\n",
    "            continue\n",
    "print(num)"
   ]
  },
  {
   "cell_type": "code",
   "execution_count": 105,
   "metadata": {},
   "outputs": [
    {
     "data": {
      "text/html": [
       "<div>\n",
       "<style scoped>\n",
       "    .dataframe tbody tr th:only-of-type {\n",
       "        vertical-align: middle;\n",
       "    }\n",
       "\n",
       "    .dataframe tbody tr th {\n",
       "        vertical-align: top;\n",
       "    }\n",
       "\n",
       "    .dataframe thead th {\n",
       "        text-align: right;\n",
       "    }\n",
       "</style>\n",
       "<table border=\"1\" class=\"dataframe\">\n",
       "  <thead>\n",
       "    <tr style=\"text-align: right;\">\n",
       "      <th></th>\n",
       "      <th>headline</th>\n",
       "      <th>city</th>\n",
       "      <th>country</th>\n",
       "      <th>latitude</th>\n",
       "      <th>longitude</th>\n",
       "      <th>countrycode</th>\n",
       "    </tr>\n",
       "    <tr>\n",
       "      <th>Unnamed: 0</th>\n",
       "      <th></th>\n",
       "      <th></th>\n",
       "      <th></th>\n",
       "      <th></th>\n",
       "      <th></th>\n",
       "      <th></th>\n",
       "    </tr>\n",
       "  </thead>\n",
       "  <tbody>\n",
       "    <tr>\n",
       "      <th>17</th>\n",
       "      <td>Louisiana Zika cases up to 26</td>\n",
       "      <td>Louisiana</td>\n",
       "      <td>United States</td>\n",
       "      <td>30.9843</td>\n",
       "      <td>-91.9623</td>\n",
       "      <td></td>\n",
       "    </tr>\n",
       "  </tbody>\n",
       "</table>\n",
       "</div>"
      ],
      "text/plain": [
       "                                 headline       city        country latitude  \\\n",
       "Unnamed: 0                                                                     \n",
       "17          Louisiana Zika cases up to 26  Louisiana  United States  30.9843   \n",
       "\n",
       "           longitude countrycode  \n",
       "Unnamed: 0                        \n",
       "17          -91.9623              "
      ]
     },
     "execution_count": 105,
     "metadata": {},
     "output_type": "execute_result"
    }
   ],
   "source": [
    "hl.loc[[i for i in no_match if i not in find]]"
   ]
  },
  {
   "cell_type": "code",
   "execution_count": 108,
   "metadata": {},
   "outputs": [],
   "source": [
    "hl.latitude[17] = 30.9843\n",
    "hl.longitude[17] = -91.9623\n",
    "hl.countrycode[17] = 'US'"
   ]
  },
  {
   "cell_type": "code",
   "execution_count": 109,
   "metadata": {},
   "outputs": [
    {
     "data": {
      "text/html": [
       "<div>\n",
       "<style scoped>\n",
       "    .dataframe tbody tr th:only-of-type {\n",
       "        vertical-align: middle;\n",
       "    }\n",
       "\n",
       "    .dataframe tbody tr th {\n",
       "        vertical-align: top;\n",
       "    }\n",
       "\n",
       "    .dataframe thead th {\n",
       "        text-align: right;\n",
       "    }\n",
       "</style>\n",
       "<table border=\"1\" class=\"dataframe\">\n",
       "  <thead>\n",
       "    <tr style=\"text-align: right;\">\n",
       "      <th></th>\n",
       "      <th>headline</th>\n",
       "      <th>city</th>\n",
       "      <th>country</th>\n",
       "      <th>latitude</th>\n",
       "      <th>longitude</th>\n",
       "      <th>countrycode</th>\n",
       "    </tr>\n",
       "    <tr>\n",
       "      <th>Unnamed: 0</th>\n",
       "      <th></th>\n",
       "      <th></th>\n",
       "      <th></th>\n",
       "      <th></th>\n",
       "      <th></th>\n",
       "      <th></th>\n",
       "    </tr>\n",
       "  </thead>\n",
       "  <tbody>\n",
       "    <tr>\n",
       "      <th>0</th>\n",
       "      <td>Zika Outbreak Hits Miami</td>\n",
       "      <td>Miami</td>\n",
       "      <td>United States</td>\n",
       "      <td>25.7743</td>\n",
       "      <td>-80.1937</td>\n",
       "      <td>US</td>\n",
       "    </tr>\n",
       "    <tr>\n",
       "      <th>1</th>\n",
       "      <td>Could Zika Reach New York City?</td>\n",
       "      <td>New York City</td>\n",
       "      <td>United States</td>\n",
       "      <td>40.7143</td>\n",
       "      <td>-74.006</td>\n",
       "      <td>US</td>\n",
       "    </tr>\n",
       "    <tr>\n",
       "      <th>2</th>\n",
       "      <td>First Case of Zika in Miami Beach</td>\n",
       "      <td>Miami Beach</td>\n",
       "      <td>United States</td>\n",
       "      <td>25.7906</td>\n",
       "      <td>-80.13</td>\n",
       "      <td>US</td>\n",
       "    </tr>\n",
       "    <tr>\n",
       "      <th>3</th>\n",
       "      <td>Mystery Virus Spreads in Recife, Brazil</td>\n",
       "      <td>Recife</td>\n",
       "      <td>Brazil</td>\n",
       "      <td>-8.05389</td>\n",
       "      <td>-34.8811</td>\n",
       "      <td>BR</td>\n",
       "    </tr>\n",
       "    <tr>\n",
       "      <th>4</th>\n",
       "      <td>Dallas man comes down with case of Zika</td>\n",
       "      <td>Dallas</td>\n",
       "      <td>United States</td>\n",
       "      <td>32.7831</td>\n",
       "      <td>-96.8067</td>\n",
       "      <td>US</td>\n",
       "    </tr>\n",
       "    <tr>\n",
       "      <th>5</th>\n",
       "      <td>Trinidad confirms first Zika case</td>\n",
       "      <td>Trinidad</td>\n",
       "      <td>Bolivia</td>\n",
       "      <td>-14.8333</td>\n",
       "      <td>-64.9</td>\n",
       "      <td>BO</td>\n",
       "    </tr>\n",
       "    <tr>\n",
       "      <th>6</th>\n",
       "      <td>Zika Concerns are Spreading in Houston</td>\n",
       "      <td>Houston</td>\n",
       "      <td>United States</td>\n",
       "      <td>29.7633</td>\n",
       "      <td>-95.3633</td>\n",
       "      <td>US</td>\n",
       "    </tr>\n",
       "    <tr>\n",
       "      <th>7</th>\n",
       "      <td>Geneve Scientists Battle to Find Cure</td>\n",
       "      <td>Geneve</td>\n",
       "      <td></td>\n",
       "      <td>46.2022</td>\n",
       "      <td>6.14569</td>\n",
       "      <td>CH</td>\n",
       "    </tr>\n",
       "    <tr>\n",
       "      <th>8</th>\n",
       "      <td>The CDC in Atlanta is Growing Worried</td>\n",
       "      <td>Atlanta</td>\n",
       "      <td>United States</td>\n",
       "      <td>33.749</td>\n",
       "      <td>-84.388</td>\n",
       "      <td>US</td>\n",
       "    </tr>\n",
       "    <tr>\n",
       "      <th>9</th>\n",
       "      <td>Zika Infested Monkeys in Sao Paulo</td>\n",
       "      <td>Sao Paulo</td>\n",
       "      <td></td>\n",
       "      <td>-23.5475</td>\n",
       "      <td>-46.6361</td>\n",
       "      <td>BR</td>\n",
       "    </tr>\n",
       "    <tr>\n",
       "      <th>10</th>\n",
       "      <td>Brownsville teen contracts Zika virus</td>\n",
       "      <td>Brownsville</td>\n",
       "      <td>United States</td>\n",
       "      <td>25.9017</td>\n",
       "      <td>-97.4975</td>\n",
       "      <td>US</td>\n",
       "    </tr>\n",
       "    <tr>\n",
       "      <th>11</th>\n",
       "      <td>Mosquito control efforts in St. Louis take new...</td>\n",
       "      <td>St. Louis</td>\n",
       "      <td>United States</td>\n",
       "      <td>38.6273</td>\n",
       "      <td>-90.1979</td>\n",
       "      <td>US</td>\n",
       "    </tr>\n",
       "    <tr>\n",
       "      <th>12</th>\n",
       "      <td>San Juan reports 1st U.S. Zika-related death a...</td>\n",
       "      <td>San Juan</td>\n",
       "      <td>Argentina</td>\n",
       "      <td>-31.5375</td>\n",
       "      <td>-68.5364</td>\n",
       "      <td>AR</td>\n",
       "    </tr>\n",
       "    <tr>\n",
       "      <th>13</th>\n",
       "      <td>Flu outbreak in Galveston, Texas</td>\n",
       "      <td>Galveston</td>\n",
       "      <td>United States</td>\n",
       "      <td>29.3013</td>\n",
       "      <td>-94.7977</td>\n",
       "      <td>US</td>\n",
       "    </tr>\n",
       "    <tr>\n",
       "      <th>14</th>\n",
       "      <td>Zika alert - Manila now threatened</td>\n",
       "      <td>Manila</td>\n",
       "      <td>Philippines</td>\n",
       "      <td>14.6042</td>\n",
       "      <td>120.982</td>\n",
       "      <td>PH</td>\n",
       "    </tr>\n",
       "    <tr>\n",
       "      <th>15</th>\n",
       "      <td>Zika afflicts 7 in Iloilo City</td>\n",
       "      <td>Iloilo</td>\n",
       "      <td>Philippines</td>\n",
       "      <td>10.6969</td>\n",
       "      <td>122.564</td>\n",
       "      <td>PH</td>\n",
       "    </tr>\n",
       "    <tr>\n",
       "      <th>16</th>\n",
       "      <td>New Los Angeles Hairstyle goes Viral</td>\n",
       "      <td>Los Angeles</td>\n",
       "      <td>United States</td>\n",
       "      <td>34.0522</td>\n",
       "      <td>-118.244</td>\n",
       "      <td>US</td>\n",
       "    </tr>\n",
       "    <tr>\n",
       "      <th>17</th>\n",
       "      <td>Louisiana Zika cases up to 26</td>\n",
       "      <td>Louisiana</td>\n",
       "      <td>United States</td>\n",
       "      <td>30.9843</td>\n",
       "      <td>-91.9623</td>\n",
       "      <td>US</td>\n",
       "    </tr>\n",
       "    <tr>\n",
       "      <th>18</th>\n",
       "      <td>Orlando volunteers aid Zika research</td>\n",
       "      <td>Orlando</td>\n",
       "      <td>United States</td>\n",
       "      <td>28.5383</td>\n",
       "      <td>-81.3792</td>\n",
       "      <td>US</td>\n",
       "    </tr>\n",
       "    <tr>\n",
       "      <th>19</th>\n",
       "      <td>Zika infects pregnant woman in Cebu</td>\n",
       "      <td>Cebu City</td>\n",
       "      <td>Philippines</td>\n",
       "      <td>10.3167</td>\n",
       "      <td>123.891</td>\n",
       "      <td>PH</td>\n",
       "    </tr>\n",
       "  </tbody>\n",
       "</table>\n",
       "</div>"
      ],
      "text/plain": [
       "                                                     headline           city  \\\n",
       "Unnamed: 0                                                                     \n",
       "0                                    Zika Outbreak Hits Miami          Miami   \n",
       "1                             Could Zika Reach New York City?  New York City   \n",
       "2                           First Case of Zika in Miami Beach    Miami Beach   \n",
       "3                     Mystery Virus Spreads in Recife, Brazil         Recife   \n",
       "4                     Dallas man comes down with case of Zika         Dallas   \n",
       "5                           Trinidad confirms first Zika case       Trinidad   \n",
       "6                      Zika Concerns are Spreading in Houston        Houston   \n",
       "7                       Geneve Scientists Battle to Find Cure         Geneve   \n",
       "8                       The CDC in Atlanta is Growing Worried        Atlanta   \n",
       "9                          Zika Infested Monkeys in Sao Paulo      Sao Paulo   \n",
       "10                      Brownsville teen contracts Zika virus    Brownsville   \n",
       "11          Mosquito control efforts in St. Louis take new...      St. Louis   \n",
       "12          San Juan reports 1st U.S. Zika-related death a...       San Juan   \n",
       "13                           Flu outbreak in Galveston, Texas      Galveston   \n",
       "14                         Zika alert - Manila now threatened         Manila   \n",
       "15                             Zika afflicts 7 in Iloilo City         Iloilo   \n",
       "16                       New Los Angeles Hairstyle goes Viral    Los Angeles   \n",
       "17                              Louisiana Zika cases up to 26      Louisiana   \n",
       "18                       Orlando volunteers aid Zika research        Orlando   \n",
       "19                        Zika infects pregnant woman in Cebu      Cebu City   \n",
       "\n",
       "                  country latitude longitude countrycode  \n",
       "Unnamed: 0                                                \n",
       "0           United States  25.7743  -80.1937          US  \n",
       "1           United States  40.7143   -74.006          US  \n",
       "2           United States  25.7906    -80.13          US  \n",
       "3                  Brazil -8.05389  -34.8811          BR  \n",
       "4           United States  32.7831  -96.8067          US  \n",
       "5                 Bolivia -14.8333     -64.9          BO  \n",
       "6           United States  29.7633  -95.3633          US  \n",
       "7                          46.2022   6.14569          CH  \n",
       "8           United States   33.749   -84.388          US  \n",
       "9                         -23.5475  -46.6361          BR  \n",
       "10          United States  25.9017  -97.4975          US  \n",
       "11          United States  38.6273  -90.1979          US  \n",
       "12              Argentina -31.5375  -68.5364          AR  \n",
       "13          United States  29.3013  -94.7977          US  \n",
       "14            Philippines  14.6042   120.982          PH  \n",
       "15            Philippines  10.6969   122.564          PH  \n",
       "16          United States  34.0522  -118.244          US  \n",
       "17          United States  30.9843  -91.9623          US  \n",
       "18          United States  28.5383  -81.3792          US  \n",
       "19            Philippines  10.3167   123.891          PH  "
      ]
     },
     "execution_count": 109,
     "metadata": {},
     "output_type": "execute_result"
    }
   ],
   "source": [
    "hl.to_csv('E:/Self-Dev/ManningProject-Headlines/data/hl2.csv')\n",
    "hl.head(20)"
   ]
  },
  {
   "cell_type": "markdown",
   "metadata": {},
   "source": [
    "# Practices"
   ]
  },
  {
   "cell_type": "code",
   "execution_count": null,
   "metadata": {},
   "outputs": [],
   "source": [
    "## pd element wise methods:\n",
    "df.add(2)\n",
    "## element-wise operations:\n",
    "temp[17] = temp[17].str.strip(\"%\")\n",
    "temp.replace(\"%\", \"\")\n",
    "temp[17].div(100)\n",
    "pd.to_numeric(temp[17].str.strip(\"%\")).div(100)\n",
    "\n",
    "## in read_csv or read_json, empty/None will be translated into NaN (not a number).\n",
    "pd.read_csv(\"temp_data_01.csv\", na_values=['Missing']) # using the na_values parameter to standardize all 'Missing' to NaN\n",
    "\n",
    "## Other tricks\n",
    "temp = pd.read_csv(\"temp_data_01.csv\", na_values=['Missing'], header=0, names=range(18), usecols=range(4,18)) # names not columns\n",
    "\n",
    "## Get rows\n",
    "calls_revenue[calls_revenue.Territory==3] # can directly use slicing?"
   ]
  },
  {
   "cell_type": "markdown",
   "metadata": {},
   "source": [
    "## GeoNames\n",
    "GeoNames database (geonames.org) is for obtaining geographic data. GeoNames contains over eleven million place-names spanning all the countries in the World (continents, countries, and cities, as well US counties and US states). Beyond just place-names, GeoNames also stores valuable information such as latitude and longitude. \n",
    "\n",
    "How do we access the GeoNames data? \n",
    "1. Download the GeoNames data dump, (download.geonames.org/export/dump/), parse it and then store the output data structure. \n",
    "2. GeoNamesCache library: Method are get_continents, get_countries, get_cities, get_countries_by_name, get_cities_by_name, get_us_counties."
   ]
  },
  {
   "cell_type": "markdown",
   "metadata": {},
   "source": [
    "### Country Info"
   ]
  },
  {
   "cell_type": "code",
   "execution_count": 5,
   "metadata": {},
   "outputs": [
    {
     "name": "stdout",
     "output_type": "stream",
     "text": [
      "dict_keys(['AF', 'AS', 'EU', 'NA', 'OC', 'SA', 'AN'])\n"
     ]
    }
   ],
   "source": [
    "continent_dictionary = gc.get_continents()\n",
    "print(continent_dictionary.keys())"
   ]
  },
  {
   "cell_type": "code",
   "execution_count": 7,
   "metadata": {},
   "outputs": [
    {
     "name": "stdout",
     "output_type": "stream",
     "text": [
      "dict_keys(['lng', 'geonameId', 'timezone', 'bbox', 'toponymName', 'asciiName', 'astergdem', 'fcl', 'population', 'wikipediaURL', 'adminName5', 'srtm3', 'adminName4', 'adminName3', 'alternateNames', 'cc2', 'adminName2', 'name', 'fclName', 'fcodeName', 'adminName1', 'lat', 'fcode', 'continentCode'])\n"
     ]
    }
   ],
   "source": [
    "north_america =continent_dictionary['NA']\n",
    "print(north_america.keys())"
   ]
  },
  {
   "cell_type": "code",
   "execution_count": 8,
   "metadata": {},
   "outputs": [
    {
     "name": "stdout",
     "output_type": "stream",
     "text": [
      "North America\n",
      "North America\n",
      "North America\n"
     ]
    }
   ],
   "source": [
    "for name_key in ['name', 'asciiName', 'toponymName']:\n",
    "    print(north_america[name_key])\n",
    "    # Various naming schemes. Not very useful."
   ]
  },
  {
   "cell_type": "code",
   "execution_count": 12,
   "metadata": {},
   "outputs": [
    {
     "data": {
      "text/plain": [
       "\"Next Session\\nfig = plt.figure(figsize=(12, 8))\\nmap_plotter = Basemap(projection='ortho',lat_0=40, lon_0=-95)\\nmap_plotter.scatter([longitude], [latitude], latlon=True, s=200)\\nmap_plotter.drawcoastlines()\\nmap_plotter.drawcountries()\\nplt.show()\\n\""
      ]
     },
     "execution_count": 12,
     "metadata": {},
     "output_type": "execute_result"
    }
   ],
   "source": [
    "latitude = float(north_america['lat'])\n",
    "longitude = float(north_america['lng'])\n",
    "\n",
    "'''Next Session\n",
    "fig = plt.figure(figsize=(12, 8))\n",
    "map_plotter = Basemap(projection='ortho',lat_0=40, lon_0=-95)\n",
    "map_plotter.scatter([longitude], [latitude], latlon=True, s=200)\n",
    "map_plotter.drawcoastlines()\n",
    "map_plotter.drawcountries()\n",
    "plt.show()\n",
    "'''\n"
   ]
  },
  {
   "cell_type": "code",
   "execution_count": 13,
   "metadata": {},
   "outputs": [
    {
     "name": "stdout",
     "output_type": "stream",
     "text": [
      "GeonamesCache holds data for 252 countries.\n",
      "The following data pertains to the United States:\n",
      "{'geonameid': 6252001, 'name': 'United States', 'iso': 'US', 'iso3': 'USA', 'isonumeric': 840, 'fips': 'US', 'continentcode': 'NA', 'capital': 'Washington', 'areakm2': 9629091, 'population': 310232863, 'tld': '.us', 'currencycode': 'USD', 'currencyname': 'Dollar', 'phone': '1', 'postalcoderegex': '^\\\\d{5}(-\\\\d{4})?$', 'languages': 'en-US,es-US,haw,fr', 'neighbours': 'CA,MX,CU'}\n"
     ]
    }
   ],
   "source": [
    "countries = gc.get_countries()\n",
    "num_countries = len(countries)\n",
    "print(f\"GeonamesCache holds data for {num_countries} countries.\")\n",
    "# f-string: add variables\n",
    "\n",
    "us_data = countries['US']\n",
    "print(\"The following data pertains to the United States:\")\n",
    "print(us_data)"
   ]
  },
  {
   "cell_type": "code",
   "execution_count": 14,
   "metadata": {},
   "outputs": [
    {
     "name": "stdout",
     "output_type": "stream",
     "text": [
      "Canada\n",
      "Mexico\n",
      "Cuba\n"
     ]
    }
   ],
   "source": [
    "# The 'neighbours' key maps to a comma-delimited string of country codes that signify all neighboring territories. \n",
    "# We can obtain more details about each neighbor by splitting the string and passing the codes into the 'countries' dictionary.\n",
    "us_neighbors = us_data['neighbours']\n",
    "for neighbor_code in us_neighbors.split(','):\n",
    "    print(countries[neighbor_code]['name'])\n",
    "# At some point, an editor had decided that Cuba is a neighbor the US. Some might disagree with this decision\n",
    "# Remember that GeoNames is not a golden-standard repository of location information. Some of that data might be imprecise. \n",
    "# Please be cautious in your use of GeoNamesCache"
   ]
  },
  {
   "cell_type": "code",
   "execution_count": 16,
   "metadata": {},
   "outputs": [],
   "source": [
    "# get by names\n",
    "result = gc.get_countries_by_names()['United States']\n",
    "assert result == countries['US']"
   ]
  },
  {
   "cell_type": "markdown",
   "metadata": {},
   "source": [
    "### City Info"
   ]
  },
  {
   "cell_type": "code",
   "execution_count": 17,
   "metadata": {},
   "outputs": [
    {
     "name": "stdout",
     "output_type": "stream",
     "text": [
      "GeoNamesCache holds data for 24336 total cities\n",
      "{'geonameid': 3041563, 'name': 'Andorra la Vella', 'latitude': 42.50779, 'longitude': 1.52109, 'countrycode': 'AD', 'population': 20430, 'timezone': 'Europe/Andorra', 'admin1code': '07'}\n"
     ]
    }
   ],
   "source": [
    "cities = gc.get_cities()\n",
    "num_cities = len(cities)\n",
    "print(f\"GeoNamesCache holds data for {num_cities} total cities\")\n",
    "city_id = list(cities.keys())[0]\n",
    "print(cities[city_id])"
   ]
  },
  {
   "cell_type": "code",
   "execution_count": 18,
   "metadata": {},
   "outputs": [
    {
     "name": "stdout",
     "output_type": "stream",
     "text": [
      "GeoNamesCache holds data for 3249 US cities.\n"
     ]
    }
   ],
   "source": [
    "## Calculate a country's cities\n",
    "us_cities = [city for city in cities.values()\n",
    "             if city['countrycode'] == 'US']\n",
    "num_us_cities = len(us_cities)\n",
    "print(f\"GeoNamesCache holds data for {num_us_cities} US cities.\")"
   ]
  },
  {
   "cell_type": "code",
   "execution_count": 19,
   "metadata": {},
   "outputs": [
    {
     "data": {
      "text/plain": [
       "\"\\nfig = plt.figure(figsize=(12, 8))\\nmap_lcc = Basemap(projection='lcc', lon_0=-95, llcrnrlon=-119,\\n                  llcrnrlat=22, urcrnrlon=-64, urcrnrlat=49, lat_1=33,\\n                  lat_2=45)\\nmap_lcc.scatter([center_lon], [center_lat], latlon=True, s=200)\\nmap_lcc.drawcoastlines()\\nmap_lcc.drawstates()\\nplt.show()\\n\""
      ]
     },
     "execution_count": 19,
     "metadata": {},
     "output_type": "execute_result"
    }
   ],
   "source": [
    "## Approximating US central coordinates\n",
    "# 1. Average will not take into account the curvature of the Earth. \n",
    "# 2. Additionally, the approximation will be inappropriately weighted by city-location. \n",
    "#    For instance, a disproportionate number of US cities are located near the American East coast. \n",
    "center_lat = np.mean([city['latitude']\n",
    "                      for city in us_cities])\n",
    "center_lon = np.mean([city['longitude']\n",
    "                       for city in us_cities])\n",
    "'''\n",
    "fig = plt.figure(figsize=(12, 8))\n",
    "map_lcc = Basemap(projection='lcc', lon_0=-95, llcrnrlon=-119,\n",
    "                  llcrnrlat=22, urcrnrlon=-64, urcrnrlat=49, lat_1=33,\n",
    "                  lat_2=45)\n",
    "map_lcc.scatter([center_lon], [center_lat], latlon=True, s=200)\n",
    "map_lcc.drawcoastlines()\n",
    "map_lcc.drawstates()\n",
    "plt.show()\n",
    "'''\n"
   ]
  },
  {
   "cell_type": "code",
   "execution_count": 31,
   "metadata": {},
   "outputs": [
    {
     "ename": "AttributeError",
     "evalue": "'list' object has no attribute 'keys'",
     "output_type": "error",
     "traceback": [
      "\u001b[1;31m---------------------------------------------------------------------------\u001b[0m",
      "\u001b[1;31mAttributeError\u001b[0m                            Traceback (most recent call last)",
      "\u001b[1;32m<ipython-input-31-535ee92bc50b>\u001b[0m in \u001b[0;36m<module>\u001b[1;34m\u001b[0m\n\u001b[0;32m      1\u001b[0m \u001b[0mmatched_cities_by_name\u001b[0m \u001b[1;33m=\u001b[0m \u001b[0mgc\u001b[0m\u001b[1;33m.\u001b[0m\u001b[0mget_cities_by_name\u001b[0m\u001b[1;33m(\u001b[0m\u001b[1;34m'Philadelphia'\u001b[0m\u001b[1;33m)\u001b[0m\u001b[1;33m\u001b[0m\u001b[1;33m\u001b[0m\u001b[0m\n\u001b[1;32m----> 2\u001b[1;33m \u001b[0mmatched_cities_by_name\u001b[0m\u001b[1;33m[\u001b[0m\u001b[0mlist\u001b[0m\u001b[1;33m(\u001b[0m\u001b[0mmatched_cities_by_name\u001b[0m\u001b[1;33m.\u001b[0m\u001b[0mkeys\u001b[0m\u001b[1;33m(\u001b[0m\u001b[1;33m)\u001b[0m\u001b[1;33m)\u001b[0m\u001b[1;33m[\u001b[0m\u001b[1;36m0\u001b[0m\u001b[1;33m]\u001b[0m\u001b[1;33m]\u001b[0m\u001b[1;33m[\u001b[0m\u001b[1;34m'latitude'\u001b[0m\u001b[1;33m]\u001b[0m\u001b[1;33m\u001b[0m\u001b[1;33m\u001b[0m\u001b[0m\n\u001b[0m\u001b[0;32m      3\u001b[0m \u001b[1;31m#print(matched_cities_by_name)\u001b[0m\u001b[1;33m\u001b[0m\u001b[1;33m\u001b[0m\u001b[1;33m\u001b[0m\u001b[0m\n",
      "\u001b[1;31mAttributeError\u001b[0m: 'list' object has no attribute 'keys'"
     ]
    }
   ],
   "source": [
    "matched_cities_by_name = gc.get_cities_by_name('Philadelphia')\n",
    "print(matched_cities_by_name)"
   ]
  },
  {
   "cell_type": "code",
   "execution_count": 22,
   "metadata": {},
   "outputs": [
    {
     "name": "stdout",
     "output_type": "stream",
     "text": [
      "The San Francisco at index 0 is located in Argentina\n",
      "The San Francisco at index 1 is located in Costa Rica\n",
      "The San Francisco at index 2 is located in Philippines\n",
      "The San Francisco at index 3 is located in Philippines\n",
      "The San Francisco at index 4 is located in El Salvador\n",
      "The San Francisco at index 5 is located in United States\n"
     ]
    }
   ],
   "source": [
    "# may return more than one city, because city-names are not always unique.\n",
    "matched_cities_list = gc.get_cities_by_name('San Francisco')\n",
    "\n",
    "for i, san_francisco in enumerate(matched_cities_list):\n",
    "    city_info = list(san_francisco.values())[0]\n",
    "    country_code = city_info['countrycode']\n",
    "    country = countries[country_code]['name']\n",
    "    print(f\"The San Francisco at index {i} is located in {country}\")"
   ]
  },
  {
   "cell_type": "markdown",
   "metadata": {},
   "source": [
    "Its common for multiple cities to share the same name. Choosing among such cities is quite difficult. \n",
    "Suppose, for instance, that someone queries a search engine for the \"weather in Athens\". The search engine must then choose between Athens, Ohio and Athens, Greece. Additional context is required to correctly disambiguate between the locations. Is the user from Ohio? Are they planning a trip to Greece? Without that context, the search engine must guess. \n",
    "Usually, the safest guess is the city with the largest population. From a statistical standpoint, the more populous cities are more likely to be referenced in everyday conversation."
   ]
  },
  {
   "cell_type": "code",
   "execution_count": 23,
   "metadata": {},
   "outputs": [
    {
     "data": {
      "text/plain": [
       "\"\\nfig = plt.figure(figsize=(12, 8))\\nmap_lcc = Basemap(projection='lcc', lon_0=-95, llcrnrlon=-119,\\n                  llcrnrlat=22, urcrnrlon=-64, urcrnrlat=49, lat_1=33,\\n                  lat_2=45)\\nmap_lcc.scatter([sf_lon], [sf_lat], latlon=True, s=200)\\nmap_lcc.drawcoastlines()\\nmap_lcc.drawstates()\\n\\nx, y = map_lcc(sf_lon, sf_lat)\\nplt.text(x, y, ' San Francisco', fontsize=16)\\nplt.show()\\n\""
      ]
     },
     "execution_count": 23,
     "metadata": {},
     "output_type": "execute_result"
    }
   ],
   "source": [
    "best_sf = max(gc.get_cities_by_name('San Francisco'),\n",
    "              key=lambda x: list(x.values())[0]['population'])\n",
    "sf_data = list(best_sf.values())[0]\n",
    "sf_lat = sf_data['latitude']\n",
    "sf_lon = sf_data['longitude']\n",
    "\n",
    "'''\n",
    "fig = plt.figure(figsize=(12, 8))\n",
    "map_lcc = Basemap(projection='lcc', lon_0=-95, llcrnrlon=-119,\n",
    "                  llcrnrlat=22, urcrnrlon=-64, urcrnrlat=49, lat_1=33,\n",
    "                  lat_2=45)\n",
    "map_lcc.scatter([sf_lon], [sf_lat], latlon=True, s=200)\n",
    "map_lcc.drawcoastlines()\n",
    "map_lcc.drawstates()\n",
    "\n",
    "x, y = map_lcc(sf_lon, sf_lat)\n",
    "plt.text(x, y, ' San Francisco', fontsize=16)\n",
    "plt.show()\n",
    "'''\n"
   ]
  },
  {
   "cell_type": "markdown",
   "metadata": {},
   "source": [
    "#### Flaws of GeoNames\n",
    "First of all, the library’s record of cities is far from complete. Certain sparsely populated locations in rural areas (whether the rural United States or rural China) are missing from the stored database records. \n",
    "Furthermore, the get_cities_by_name method maps only one version of a city’s name to its geographic data. This poses a problem for cities like New York, which carry more than one commonly referenced name.\n",
    "The limits of single references become particularly obvious when we examine diacritics (accent marks that designate the proper pronunciation of foreign-sounding words) in city names."
   ]
  },
  {
   "cell_type": "code",
   "execution_count": 24,
   "metadata": {},
   "outputs": [
    {
     "name": "stdout",
     "output_type": "stream",
     "text": [
      "'New York' is not present in GeoNamesCache database.\n",
      "'New York City' is present in GeoNamesCache database.\n"
     ]
    }
   ],
   "source": [
    "for ny_name in ['New York', 'New York City']:\n",
    "    if not gc.get_cities_by_name(ny_name):\n",
    "        print(f\"'{ny_name}' is not present in GeoNamesCache database.\")\n",
    "    else:\n",
    "        print(f\"'{ny_name}' is present in GeoNamesCache database.\")"
   ]
  },
  {
   "cell_type": "code",
   "execution_count": 25,
   "metadata": {},
   "outputs": [
    {
     "name": "stdout",
     "output_type": "stream",
     "text": [
      "[{'5416005': {'geonameid': 5416005, 'name': 'Cañon City', 'latitude': 38.44098, 'longitude': -105.24245, 'countrycode': 'US', 'population': 16400, 'timezone': 'America/Denver', 'admin1code': 'CO'}}]\n",
      "[{'4044012': {'geonameid': 4044012, 'name': 'Hagåtña', 'latitude': 13.47567, 'longitude': 144.74886, 'countrycode': 'GU', 'population': 1051, 'timezone': 'Pacific/Guam', 'admin1code': 'AN'}}]\n"
     ]
    }
   ],
   "source": [
    "print(gc.get_cities_by_name(u'Cañon City'))\n",
    "print(gc.get_cities_by_name(u'Hagåtña'))"
   ]
  },
  {
   "cell_type": "markdown",
   "metadata": {},
   "source": [
    "Find out how many of the cities stored in GeoNamesCache contain diacritics in their name using the unidecode function from the external Unidecode library. \n",
    "These cities are commonly referenced without an accent in published text-data.We can create a mapping to get them."
   ]
  },
  {
   "cell_type": "code",
   "execution_count": 26,
   "metadata": {},
   "outputs": [
    {
     "name": "stdout",
     "output_type": "stream",
     "text": [
      "An example accented city name is 'Khawr Fakkān'\n",
      "4904 cities have accented names\n"
     ]
    }
   ],
   "source": [
    "from unidecode import unidecode\n",
    "accented_names = [city['name'] for city in gc.get_cities().values()\n",
    "                  if city['name'] != unidecode(city['name'])]\n",
    "num_accented_cities = len(accented_names)\n",
    "\n",
    "print(f\"An example accented city name is '{accented_names[0]}'\")\n",
    "print(f\"{num_accented_cities} cities have accented names\")"
   ]
  },
  {
   "cell_type": "code",
   "execution_count": 27,
   "metadata": {},
   "outputs": [
    {
     "name": "stdout",
     "output_type": "stream",
     "text": [
      "[{'4044012': {'geonameid': 4044012, 'name': 'Hagåtña', 'latitude': 13.47567, 'longitude': 144.74886, 'countrycode': 'GU', 'population': 1051, 'timezone': 'Pacific/Guam', 'admin1code': 'AN'}}]\n"
     ]
    }
   ],
   "source": [
    "# Mapping accents\n",
    "alternative_names = {unidecode(name): name for name in accented_names}\n",
    "print(gc.get_cities_by_name(alternative_names['Hagatna']))"
   ]
  },
  {
   "cell_type": "code",
   "execution_count": 28,
   "metadata": {},
   "outputs": [
    {
     "name": "stdout",
     "output_type": "stream",
     "text": [
      "[{'4044012': {'geonameid': 4044012, 'name': 'Hagåtña', 'latitude': 13.47567, 'longitude': 144.74886, 'countrycode': 'GU', 'population': 1051, 'timezone': 'Pacific/Guam', 'admin1code': 'AN'}}]\n"
     ]
    }
   ],
   "source": [
    "text = u'This sentence matches Hagatna' # Unicode Strings.Python 3 made them redundant as the default string type is Unicode.\n",
    "for key, value in alternative_names.items():\n",
    "    if key in text:\n",
    "        print(gc.get_cities_by_name(value))\n",
    "        break"
   ]
  },
  {
   "cell_type": "code",
   "execution_count": null,
   "metadata": {},
   "outputs": [],
   "source": []
  }
 ],
 "metadata": {
  "kernelspec": {
   "display_name": "Python 3",
   "language": "python",
   "name": "python3"
  },
  "language_info": {
   "codemirror_mode": {
    "name": "ipython",
    "version": 3
   },
   "file_extension": ".py",
   "mimetype": "text/x-python",
   "name": "python",
   "nbconvert_exporter": "python",
   "pygments_lexer": "ipython3",
   "version": "3.7.6"
  }
 },
 "nbformat": 4,
 "nbformat_minor": 4
}
